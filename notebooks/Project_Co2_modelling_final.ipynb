{
  "cells": [
    {
      "cell_type": "markdown",
      "metadata": {
        "id": "yFY4lpKcDbbp"
      },
      "source": [
        "\n",
        "\n",
        "---\n",
        "\n",
        "\n",
        "# **Modelling**\n",
        "\n",
        "\n",
        "---\n",
        "\n",
        "We will train the following models to determine which model is best suited for our problematic.\n",
        "\n",
        "**Regression:**\n",
        "*   Linear Regression\n",
        "*   XGBoost\n",
        "*   Decision Tree\n",
        "*   ElasticNet\n",
        "\n",
        "**Classification:**\n",
        "*   Logistic Regression\n",
        "*   XGBoost\n",
        "*   Decision Tree\n",
        "*   KNN\n",
        "\n",
        "\n",
        "\n",
        "\n"
      ]
    },
    {
      "cell_type": "code",
      "source": [
        "from google.colab import drive\n",
        "drive.mount('/content/drive')"
      ],
      "metadata": {
        "colab": {
          "base_uri": "https://localhost:8080/"
        },
        "id": "RGC5c2vtd_0h",
        "outputId": "88038789-79e1-4863-f163-101cd8342d19"
      },
      "execution_count": null,
      "outputs": [
        {
          "output_type": "stream",
          "name": "stdout",
          "text": [
            "Mounted at /content/drive\n"
          ]
        }
      ]
    },
    {
      "cell_type": "markdown",
      "metadata": {
        "id": "ZeCVP4UW2Sh5"
      },
      "source": [
        "# **Import libraries**"
      ]
    },
    {
      "cell_type": "code",
      "source": [
        "import os\n",
        "default_n_threads = 8\n",
        "os.environ['OPENBLAS_NUM_THREADS'] = f\"{default_n_threads}\"\n",
        "os.environ['MKL_NUM_THREADS'] = f\"{default_n_threads}\"\n",
        "os.environ['OMP_NUM_THREADS'] = f\"{default_n_threads}\""
      ],
      "metadata": {
        "id": "hKo_LDIm2WhP"
      },
      "execution_count": null,
      "outputs": []
    },
    {
      "cell_type": "code",
      "execution_count": null,
      "metadata": {
        "id": "h6W9aGsi2gYW"
      },
      "outputs": [],
      "source": [
        "import pandas as pd\n",
        "import numpy as np\n",
        "import matplotlib.pyplot as plt\n",
        "from sklearn.model_selection import train_test_split, GridSearchCV\n",
        "from sklearn.preprocessing import StandardScaler, LabelEncoder\n",
        "from sklearn.linear_model import ElasticNet, LogisticRegression, LinearRegression\n",
        "from sklearn.tree import DecisionTreeClassifier, DecisionTreeRegressor\n",
        "from sklearn.metrics import classification_report, f1_score, accuracy_score, mean_squared_error, r2_score, confusion_matrix\n",
        "from imblearn.metrics import classification_report_imbalanced\n",
        "from xgboost import XGBClassifier, plot_importance, XGBRegressor\n",
        "from sklearn import neighbors"
      ]
    },
    {
      "cell_type": "code",
      "source": [
        "import warnings\n",
        "warnings.filterwarnings('ignore')"
      ],
      "metadata": {
        "id": "FOOnvq772fAj"
      },
      "execution_count": null,
      "outputs": []
    },
    {
      "cell_type": "code",
      "execution_count": null,
      "metadata": {
        "id": "l_-asDbq7PO8"
      },
      "outputs": [],
      "source": [
        "# Reading data\n",
        "print(\"Reading the data is started!\")\n",
        "df = pd.read_csv(\"data_preprocessed.csv\",index_col=0)\n",
        "print(\"df length (Should be 3496097):\",len(df))"
      ]
    },
    {
      "cell_type": "markdown",
      "metadata": {
        "id": "Zf1zeaVc7n4S"
      },
      "source": [
        "# **Encoding Target**"
      ]
    },
    {
      "cell_type": "code",
      "execution_count": null,
      "metadata": {
        "colab": {
          "base_uri": "https://localhost:8080/"
        },
        "id": "resTTNiu7rpi",
        "outputId": "0a4c3528-ba7f-4022-ae2d-5b52fa44aff1"
      },
      "outputs": [
        {
          "output_type": "stream",
          "name": "stdout",
          "text": [
            "Counts for 7 classes: \n",
            "target_clf\n",
            "1    1214250\n",
            "0    1212500\n",
            "2     518359\n",
            "3     177188\n",
            "4     156811\n",
            "5     143041\n",
            "6      73948\n",
            "Name: count, dtype: int64\n"
          ]
        }
      ],
      "source": [
        "# Change the name of target column from \"Ewltp (g/km)\" to target\n",
        "df = df.rename(columns={\"Ewltp (g/km)\":\"target\"})\n",
        "\n",
        "# Encoding Target\n",
        "\n",
        "# Target for 7-class classification\n",
        "bin = [0, 120, 140, 155, 170, 190, 225, df[\"target\"].max()]\n",
        "df[\"target_clf\"] = pd.cut(df[\"target\"], bin)\n",
        "# 'A' = 0,'B'=1,'C'=2, 'D'=3, 'E'=4, 'F'=5, 'G'=6\n",
        "LE = LabelEncoder()\n",
        "df[\"target_clf\"] = LE.fit_transform(df[\"target_clf\"])\n",
        "\n",
        "print(\"Counts for 7 classes: \")\n",
        "print(df[\"target_clf\"].value_counts())"
      ]
    },
    {
      "cell_type": "markdown",
      "metadata": {
        "id": "lMIaBInSO1Jq"
      },
      "source": [
        "# **Splitting data into train, test and validation sets**"
      ]
    },
    {
      "cell_type": "code",
      "execution_count": null,
      "metadata": {
        "id": "G7djzMpDtjvK"
      },
      "outputs": [],
      "source": [
        "X, X_valid, y_reg, y_valid_reg, y_clf, y_valid_clf = train_test_split(df.drop([\"target\", \"target_clf\"], axis=1),\n",
        "                                                                      df[\"target\"],\n",
        "                                                                      df[\"target_clf\"],\n",
        "                                                                      stratify=df[\"target_clf\"],\n",
        "                                                                      test_size=0.1,\n",
        "                                                                      random_state=42)\n",
        "X_train, X_test, y_train_reg, y_test_reg, y_train_clf, y_test_clf = train_test_split(X,\n",
        "                                                                                     y_reg,\n",
        "                                                                                     y_clf,\n",
        "                                                                                     stratify=y_clf,\n",
        "                                                                                     test_size=0.2,\n",
        "                                                                                     random_state=42)"
      ]
    },
    {
      "cell_type": "markdown",
      "source": [
        "# **Data normalization**"
      ],
      "metadata": {
        "id": "WhN1ZUCS8X4Z"
      }
    },
    {
      "cell_type": "code",
      "execution_count": null,
      "metadata": {
        "id": "G5JwzO8-G-Q6"
      },
      "outputs": [],
      "source": [
        "# Scaling data (only numerical features)\n",
        "numerical_features = [\"m (kg)\",\"ep (KW)\",\"Erwltp (g/km)\",\"Fuel consumption\"]\n",
        "scaler = StandardScaler()\n",
        "X_train[numerical_features] = scaler.fit_transform(X_train[numerical_features])\n",
        "X_test[numerical_features] = scaler.transform(X_test[numerical_features])\n",
        "X_valid[numerical_features] = scaler.transform(X_valid[numerical_features])"
      ]
    },
    {
      "cell_type": "markdown",
      "metadata": {
        "id": "Fr4Oico-p2_x"
      },
      "source": [
        "# **Models for Regression**"
      ]
    },
    {
      "cell_type": "code",
      "execution_count": null,
      "metadata": {
        "id": "Afa4e0dIgIcm"
      },
      "outputs": [],
      "source": [
        "# Initializing DataFrame for comparing results\n",
        "metrics_compare = []"
      ]
    },
    {
      "cell_type": "markdown",
      "metadata": {
        "id": "G3bjr8p_LBf_"
      },
      "source": [
        "# **Linear Regression**"
      ]
    },
    {
      "cell_type": "code",
      "execution_count": null,
      "metadata": {
        "id": "h6GuaHw3MCf7"
      },
      "outputs": [],
      "source": [
        "# Multivar Regression\n",
        "model_name = \"LinearRegression\"\n",
        "\n",
        "lr = LinearRegression()\n",
        "lr.fit(X_train, y_train_reg)\n",
        "\n",
        "# Predictions\n",
        "y_train_pred = lr.predict(X_train)\n",
        "y_test_pred = lr.predict(X_test)\n",
        "\n",
        "# Compute R2\n",
        "score_train = lr.score(X_train,y_train_reg)\n",
        "score_test = lr.score(X_test,y_test_reg)\n",
        "\n",
        "# Compute RMSE\n",
        "train_rmse = np.sqrt(mean_squared_error(y_train_reg, y_train_pred))\n",
        "test_rmse = np.sqrt(mean_squared_error(y_test_reg, y_test_pred))"
      ]
    },
    {
      "cell_type": "code",
      "execution_count": null,
      "metadata": {
        "id": "oIaOnQzloPW3"
      },
      "outputs": [],
      "source": [
        "# Adding scores\n",
        "metrics_compare.append([model_name,\"Train\",\"R^2\",round(score_train,4)])\n",
        "metrics_compare.append([model_name,\"Test\",\"R^2\",round(score_test,4)])\n",
        "metrics_compare.append([model_name,\"Train\",\"RMSE\",round(train_rmse,4)])\n",
        "metrics_compare.append([model_name,\"Test\",\"RMSE\",round(test_rmse,4)])"
      ]
    },
    {
      "cell_type": "markdown",
      "metadata": {
        "id": "hqPW1XK0iGCA"
      },
      "source": [
        "# **Elastic Net**\n",
        "\n"
      ]
    },
    {
      "cell_type": "markdown",
      "metadata": {
        "id": "3TwxYCE6hpe4"
      },
      "source": [
        "Default values:\n",
        "*   alpha=1.0\n",
        "*   l1_ratio=0.5\n",
        "*   fit_intercept=True\n",
        "*   precompute=False\n",
        "*   max_iter=1000\n",
        "*   copy_X=True\n",
        "*   tol=0.0001\n",
        "*   warm_start=False\n",
        "*   positive=False\n",
        "*   random_state=None\n",
        "*   selection='cyclic'"
      ]
    },
    {
      "cell_type": "code",
      "execution_count": null,
      "metadata": {
        "id": "hLsFsFsswfbW"
      },
      "outputs": [],
      "source": [
        "# Elastic Net\n",
        "model_name = \"ElasticNet\"\n",
        "\n",
        "enReg = ElasticNet()\n",
        "enReg.fit(X_train,y_train_reg)\n",
        "\n",
        "# Predictions\n",
        "y_train_pred = enReg.predict(X_train)\n",
        "y_test_pred = enReg.predict(X_test)\n",
        "\n",
        "# Compute R2\n",
        "score_train = enReg.score(X_train,y_train_reg)\n",
        "score_test = enReg.score(X_test,y_test_reg)\n",
        "\n",
        "# Compute RMSE\n",
        "train_rmse = np.sqrt(mean_squared_error(y_train_reg, y_train_pred))\n",
        "test_rmse = np.sqrt(mean_squared_error(y_test_reg, y_test_pred))"
      ]
    },
    {
      "cell_type": "code",
      "execution_count": null,
      "metadata": {
        "id": "zO-FVPHLkU1Z"
      },
      "outputs": [],
      "source": [
        "# Adding scores\n",
        "metrics_compare.append([model_name,\"Train\",\"R^2\",round(score_train,4)])\n",
        "metrics_compare.append([model_name,\"Test\",\"R^2\",round(score_test,4)])\n",
        "metrics_compare.append([model_name,\"Train\",\"RMSE\",round(train_rmse,4)])\n",
        "metrics_compare.append([model_name,\"Test\",\"RMSE\",round(test_rmse,4)])"
      ]
    },
    {
      "cell_type": "markdown",
      "metadata": {
        "id": "8lW4MY0eicmP"
      },
      "source": [
        "# **Decision Tree Regressor**"
      ]
    },
    {
      "cell_type": "code",
      "execution_count": null,
      "metadata": {
        "id": "oStOPdK3py3q"
      },
      "outputs": [],
      "source": [
        "# DecisionTreeRegressor\n",
        "model_name = \"DecisionTreeRegressor\"\n",
        "\n",
        "dtReg = DecisionTreeRegressor(max_depth = 5)\n",
        "dtReg.fit(X_train, y_train_reg)\n",
        "\n",
        "# Predictions\n",
        "y_train_pred = dtReg.predict(X_train)\n",
        "y_test_pred = dtReg.predict(X_test)\n",
        "\n",
        "# Compute R2\n",
        "score_train = dtReg.score(X_train,y_train_reg)\n",
        "score_test = dtReg.score(X_test,y_test_reg)\n",
        "\n",
        "# Compute RMSE\n",
        "train_rmse = np.sqrt(mean_squared_error(y_train_reg, y_train_pred))\n",
        "test_rmse = np.sqrt(mean_squared_error(y_test_reg, y_test_pred))"
      ]
    },
    {
      "cell_type": "code",
      "execution_count": null,
      "metadata": {
        "id": "7Zp0Ss3jmZja"
      },
      "outputs": [],
      "source": [
        "# Adding scores\n",
        "metrics_compare.append([model_name,\"Train\",\"R^2\",round(score_train,4)])\n",
        "metrics_compare.append([model_name,\"Test\",\"R^2\",round(score_test,4)])\n",
        "metrics_compare.append([model_name,\"Train\",\"RMSE\",round(train_rmse,4)])\n",
        "metrics_compare.append([model_name,\"Test\",\"RMSE\",round(test_rmse,4)])"
      ]
    },
    {
      "cell_type": "markdown",
      "metadata": {
        "id": "ctW7KC0o4tPY"
      },
      "source": [
        "# **XGBoost Regressor**"
      ]
    },
    {
      "cell_type": "code",
      "execution_count": null,
      "metadata": {
        "id": "ESdMGk3H7PPD"
      },
      "outputs": [],
      "source": [
        "# XGBRegressor\n",
        "model_name = \"XGBRegressor\"\n",
        "\n",
        "xgbReg = XGBRegressor(objective='reg:squarederror')\n",
        "xgbReg.fit(X_train,y_train_reg)\n",
        "\n",
        "# Predictions\n",
        "y_train_pred = xgbReg.predict(X_train)\n",
        "y_test_pred = xgbReg.predict(X_test)\n",
        "\n",
        "# Compute R2\n",
        "score_train = r2_score(y_train_reg,y_train_pred)\n",
        "score_test = r2_score(y_test_reg,y_test_pred)\n",
        "\n",
        "# Compute RMSE\n",
        "train_rmse = np.sqrt(mean_squared_error(y_train_reg, y_train_pred))\n",
        "test_rmse = np.sqrt(mean_squared_error(y_test_reg, y_test_pred))"
      ]
    },
    {
      "cell_type": "code",
      "execution_count": null,
      "metadata": {
        "id": "FqYNyJBAoEMO"
      },
      "outputs": [],
      "source": [
        "# Adding scores\n",
        "metrics_compare.append([model_name,\"Train\",\"R^2\",round(score_train,4)])\n",
        "metrics_compare.append([model_name,\"Test\",\"R^2\",round(score_test,4)])\n",
        "metrics_compare.append([model_name,\"Train\",\"RMSE\",round(train_rmse,4)])\n",
        "metrics_compare.append([model_name,\"Test\",\"RMSE\",round(test_rmse,4)])"
      ]
    },
    {
      "cell_type": "markdown",
      "metadata": {
        "id": "o1KDIUIupxNq"
      },
      "source": [
        "# **Models for Classification**"
      ]
    },
    {
      "cell_type": "markdown",
      "metadata": {
        "id": "gx3HzWiiWj5T"
      },
      "source": [
        "# **Logistic Regression**"
      ]
    },
    {
      "cell_type": "code",
      "execution_count": null,
      "metadata": {
        "id": "5dpcHwyaz1oN"
      },
      "outputs": [],
      "source": [
        "# LogisticRegression\n",
        "model_name = \"LogisticRegression\"\n",
        "\n",
        "lrClf = LogisticRegression(solver=\"sag\", max_iter = 1000)\n",
        "lrClf.fit(X_train,y_train_clf)\n",
        "\n",
        "# Predictions\n",
        "y_train_pred = lrClf.predict(X_train)\n",
        "y_test_pred = lrClf.predict(X_test)\n",
        "\n",
        "# Compute accuracy\n",
        "score_train = lrClf.score(X_train,y_train_clf)\n",
        "score_test = lrClf.score(X_test,y_test_clf)\n",
        "\n",
        "# Compute F1\n",
        "train_f1=f1_score(y_train_clf,y_train_pred,average=\"weighted\")\n",
        "test_f1=f1_score(y_test_clf,y_test_pred,average=\"weighted\")"
      ]
    },
    {
      "cell_type": "code",
      "execution_count": null,
      "metadata": {
        "id": "hGjuN7x0n5CB"
      },
      "outputs": [],
      "source": [
        "# Adding scores\n",
        "metrics_compare.append([model_name,\"Train\",\"Accuracy\",round(score_train,4)])\n",
        "metrics_compare.append([model_name,\"Test\",\"Accuracy\",round(score_test,4)])\n",
        "metrics_compare.append([model_name,\"Train\",\"F1\",round(train_f1,4)])\n",
        "metrics_compare.append([model_name,\"Test\",\"F1\",round(test_f1,4)])"
      ]
    },
    {
      "cell_type": "markdown",
      "metadata": {
        "id": "76ivddpOnjgz"
      },
      "source": [
        "# **K-Nearest Neighbors (KNN)**"
      ]
    },
    {
      "cell_type": "code",
      "execution_count": null,
      "metadata": {
        "id": "6NyC3q2fRqPz"
      },
      "outputs": [],
      "source": [
        "# KNeighborsClassifier\n",
        "model_name = \"KNeighborsClassifier\"\n",
        "\n",
        "knn = neighbors.KNeighborsClassifier(n_neighbors=3, metric='minkowski')\n",
        "knn.fit(X_train, y_train_clf)\n",
        "\n",
        "# Predictions\n",
        "y_train_pred = knn.predict(X_train)\n",
        "y_test_pred = knn.predict(X_test)\n",
        "\n",
        "# Compute accuracy\n",
        "score_train = knn.score(X_train,y_train_clf)\n",
        "score_test = knn.score(X_test,y_test_clf)\n",
        "\n",
        "# Compute F1\n",
        "train_f1=f1_score(y_train_clf,y_train_pred,average=\"weighted\")\n",
        "test_f1=f1_score(y_test_clf,y_test_pred,average=\"weighted\")"
      ]
    },
    {
      "cell_type": "code",
      "execution_count": null,
      "metadata": {
        "id": "qkPXbtqhCuBd"
      },
      "outputs": [],
      "source": [
        "# Adding scores\n",
        "metrics_compare.append([model_name,\"Train\",\"Accuracy\",round(score_train,4)])\n",
        "metrics_compare.append([model_name,\"Test\",\"Accuracy\",round(score_test,4)])\n",
        "metrics_compare.append([model_name,\"Train\",\"F1\",round(train_f1,4)])\n",
        "metrics_compare.append([model_name,\"Test\",\"F1\",round(test_f1,4)])"
      ]
    },
    {
      "cell_type": "markdown",
      "metadata": {
        "id": "nndM5RFN43YQ"
      },
      "source": [
        "# **Decision Tree Classifier**"
      ]
    },
    {
      "cell_type": "code",
      "execution_count": null,
      "metadata": {
        "id": "sy7y9om-BF9z"
      },
      "outputs": [],
      "source": [
        "# DecisionTreeClassifier\n",
        "model_name = \"DecisionTreeClassifier\"\n",
        "\n",
        "dt_clf = DecisionTreeClassifier(criterion ='entropy', max_depth=4, random_state=123)\n",
        "dt_clf.fit(X_train, y_train_clf)\n",
        "\n",
        "# Predictions\n",
        "y_train_pred = dt_clf.predict(X_train)\n",
        "y_test_pred = dt_clf.predict(X_test)\n",
        "\n",
        "# Compute accuracy\n",
        "score_train = dt_clf.score(X_train,y_train_clf)\n",
        "score_test = dt_clf.score(X_test,y_test_clf)\n",
        "\n",
        "# Compute F1\n",
        "train_f1=f1_score(y_train_clf,y_train_pred,average=\"weighted\")\n",
        "test_f1=f1_score(y_test_clf,y_test_pred,average=\"weighted\")"
      ]
    },
    {
      "cell_type": "code",
      "execution_count": null,
      "metadata": {
        "id": "UVciAx-ZCvDF"
      },
      "outputs": [],
      "source": [
        "# Adding scores\n",
        "metrics_compare.append([model_name,\"Train\",\"Accuracy\",round(score_train,4)])\n",
        "metrics_compare.append([model_name,\"Test\",\"Accuracy\",round(score_test,4)])\n",
        "metrics_compare.append([model_name,\"Train\",\"F1\",round(train_f1,4)])\n",
        "metrics_compare.append([model_name,\"Test\",\"F1\",round(test_f1,4)])"
      ]
    },
    {
      "cell_type": "markdown",
      "metadata": {
        "id": "STzRATsdWd7_"
      },
      "source": [
        "# **XGBoost Classifier**"
      ]
    },
    {
      "cell_type": "markdown",
      "metadata": {
        "id": "-Fzk7W7ePw-V"
      },
      "source": [
        "Default values:\n",
        "\n",
        "*   max_depth=3\n",
        "*   learning_rate=0.1\n",
        "*   n_estimators=100\n",
        "*   silent=True\n",
        "*   booster='gbtree'\n",
        "*   n_jobs=1\n",
        "*   nthread=None\n",
        "*   gamma=0\n",
        "*   min_child_weight=1\n",
        "*   max_delta_step=0\n",
        "*   subsample=1\n",
        "*   colsample_bytree=1\n",
        "*   colsample_bylevel=1\n",
        "*   reg_alpha=0\n",
        "*   reg_lambda=1\n",
        "*   scale_pos_weight=1\n",
        "*   base_score=0.5\n",
        "*   random_state=0\n",
        "*   seed=None\n",
        "*   missing=None\n",
        "\n",
        "\n",
        "\n"
      ]
    },
    {
      "cell_type": "code",
      "execution_count": null,
      "metadata": {
        "id": "-FIm_3YCtnzP"
      },
      "outputs": [],
      "source": [
        "# XGBClassifier\n",
        "model_name = \"XGBClassifier\"\n",
        "\n",
        "xgbClf = XGBClassifier(objective='multi:softmax', num_class=7)\n",
        "xgbClf.fit(X_train,y_train_clf)\n",
        "\n",
        "# Predictions\n",
        "y_train_pred = xgbClf.predict(X_train)\n",
        "y_test_pred = xgbClf.predict(X_test)\n",
        "\n",
        "# Compute accuracy\n",
        "score_train = accuracy_score(y_train_clf,y_train_pred)\n",
        "score_test = accuracy_score(y_test_clf,y_test_pred)\n",
        "\n",
        "# Compute F1\n",
        "train_f1=f1_score(y_train_clf,y_train_pred,average=\"weighted\")\n",
        "test_f1=f1_score(y_test_clf,y_test_pred,average=\"weighted\")"
      ]
    },
    {
      "cell_type": "code",
      "execution_count": null,
      "metadata": {
        "id": "cMlfzK36oJx1"
      },
      "outputs": [],
      "source": [
        "# Adding scores\n",
        "metrics_compare.append([model_name,\"Train\",\"Accuracy\",round(score_train,4)])\n",
        "metrics_compare.append([model_name,\"Test\",\"Accuracy\",round(score_test,4)])\n",
        "metrics_compare.append([model_name,\"Train\",\"F1\",round(train_f1,4)])\n",
        "metrics_compare.append([model_name,\"Test\",\"F1\",round(test_f1,4)])"
      ]
    },
    {
      "cell_type": "markdown",
      "source": [
        "# **Model Optimization**\n",
        "\n",
        "The result of the model comparison shows, that the XGBoost for Regression and also for Classification gave us the smalles error and best accuracy respectively.\n",
        "\n",
        "In this step we will try to optimize these models."
      ],
      "metadata": {
        "id": "CnSwuMDV6Gwn"
      }
    },
    {
      "cell_type": "markdown",
      "source": [
        "# **XGBoost Regressor**"
      ],
      "metadata": {
        "id": "GZYZrfBS6263"
      }
    },
    {
      "cell_type": "code",
      "execution_count": null,
      "metadata": {
        "id": "-7dojA44or3O"
      },
      "outputs": [],
      "source": [
        "# XGBRegressor optimization\n",
        "model_name = \"XGBRegressor optimized\"\n",
        "\n",
        "params = {\n",
        "    'learning_rate': [0.1, 0.01, 0.001],\n",
        "    'max_depth': [3, 5, 7],\n",
        "    'n_estimators': [100, 500, 1000]\n",
        "}\n",
        "\n",
        "xgbReg = XGBRegressor(objective='reg:squarederror')\n",
        "\n",
        "# Perform GridSearch\n",
        "gridcv = GridSearchCV(estimator=xgbReg, param_grid=params, cv=3, scoring='neg_mean_squared_error')\n",
        "gridcv.fit(X_train, y_train_reg)\n",
        "\n",
        "# Get the best parameters and best estimator\n",
        "best_params = gridcv.best_params_\n",
        "best_estimator = gridcv.best_estimator_\n",
        "\n",
        "# Predict using the best estimator\n",
        "y_train_reg_pred = best_estimator.predict(X_train)\n",
        "y_test_reg_pred = best_estimator.predict(X_test)\n",
        "\n",
        "# Compute R2\n",
        "score_train = r2_score(y_train_reg,y_train_reg_pred)\n",
        "score_test = r2_score(y_test_reg,y_test_reg_pred)\n",
        "\n",
        "# Compute RMSE\n",
        "train_rmse = np.sqrt(mean_squared_error(y_train_reg, y_train_reg_pred))\n",
        "test_rmse = np.sqrt(mean_squared_error(y_test_reg, y_test_reg_pred))\n",
        "\n",
        "print(\"\\n\")\n",
        "print(\"Results for XGBRegressor\")\n",
        "print(\"-------------------------\")\n",
        "print(\"Best parameters:\", best_params)"
      ]
    },
    {
      "cell_type": "code",
      "source": [
        "# Adding scores\n",
        "metrics_compare.append([model_name,\"Train\",\"R^2\",round(score_train,4)])\n",
        "metrics_compare.append([model_name,\"Test\",\"R^2\",round(score_test,4)])\n",
        "metrics_compare.append([model_name,\"Train\",\"RMSE\",round(train_rmse,4)])\n",
        "metrics_compare.append([model_name,\"Test\",\"RMSE\",round(test_rmse,4)])"
      ],
      "metadata": {
        "id": "cnH94PfZONn2"
      },
      "execution_count": null,
      "outputs": []
    },
    {
      "cell_type": "code",
      "source": [
        "# Feature importance\n",
        "featimp_score = best_estimator.feature_importances_\n",
        "col_names = X_train.columns\n",
        "df_featimp = pd.DataFrame(featimp_score,index=col_names[:len(featimp_score)],columns=[\"importance\"])\n",
        "df_featimp = df_featimp.sort_values(by=\"importance\")\n",
        "df_featimp_10 = df_featimp.tail(10)\n",
        "df_featimp_10\n",
        "\n",
        "print(\"Feature importance\")\n",
        "print(df_featimp_10)\n",
        "df_featimp_10.to_excel(\"xgbReg_Feature_importance.xlsx\")\n",
        "\n",
        "fig, ax = plt.subplots(1, 1, figsize=(6, 4))\n",
        "ax.barh(range(len(df_featimp_10)), df_featimp_10['importance'], tick_label=df_featimp_10.index)\n",
        "ax.set_xlabel('Feature Importance Percentage')\n",
        "ax.set_ylabel('Feature')\n",
        "ax.set_title('Feature Importance')\n",
        "fig.tight_layout()\n",
        "fig.savefig(\"xgbReg_Feature_importance.pdf\")\n",
        "plt.show();\n"
      ],
      "metadata": {
        "id": "wJGJ-l-M92yP"
      },
      "execution_count": null,
      "outputs": []
    },
    {
      "cell_type": "markdown",
      "source": [
        "# **XGBoost Classifier**"
      ],
      "metadata": {
        "id": "hNkEwjQD67dM"
      }
    },
    {
      "cell_type": "code",
      "execution_count": null,
      "metadata": {
        "id": "h-DJVrLJMnbC"
      },
      "outputs": [],
      "source": [
        "# XGBClassifier optimization\n",
        "model_name = \"XGBClassifier optimized\"\n",
        "\n",
        "params = {\n",
        "    'learning_rate': [0.1, 0.01, 0.001],\n",
        "    'max_depth': [3, 5, 7],\n",
        "    'n_estimators': [100, 500, 1000]\n",
        "}\n",
        "\n",
        "xgbClf = XGBClassifier(objective='multi:softmax')\n",
        "\n",
        "# Perform GridSearch\n",
        "gridcv = GridSearchCV(estimator=xgbClf, param_grid=params, cv=3, scoring='accuracy')\n",
        "gridcv.fit(X_train, y_train_clf)\n",
        "\n",
        "# Get the best parameters and best estimator\n",
        "best_params = gridcv.best_params_\n",
        "best_estimator = gridcv.best_estimator_\n",
        "\n",
        "# Predict using the best estimator on validation set\n",
        "y_train_clf_pred = best_estimator.predict(X_train)\n",
        "y_test_clf_pred = best_estimator.predict(X_test)\n",
        "\n",
        "# Compute accuracy\n",
        "score_train = accuracy_score(y_train_clf, y_train_clf_pred)\n",
        "score_test = accuracy_score(y_test_clf, y_test_clf_pred)\n",
        "\n",
        "# Compute f1\n",
        "train_f1=f1_score(y_train_clf,y_train_clf_pred,average=\"weighted\")\n",
        "test_f1=f1_score(y_test_clf,y_test_clf_pred,average=\"weighted\")\n",
        "\n",
        "print(\"\\n\")\n",
        "print(\"Results for XGBClassifier\")\n",
        "print(\"-------------------------\")\n",
        "print(\"Best parameters:\", best_params)\n",
        "\n",
        "print(\"Classification report (Training)\")\n",
        "print(classification_report_imbalanced(y_train_clf, y_train_clf_pred))\n",
        "print(classification_report(y_train_clf, y_train_clf_pred))\n",
        "\n",
        "print(\"Classification report (Test)\")\n",
        "print(classification_report_imbalanced(y_test_clf, y_test_clf_pred))\n",
        "print(classification_report(y_test_clf, y_test_clf_pred))"
      ]
    },
    {
      "cell_type": "code",
      "source": [
        "# Adding scores\n",
        "metrics_compare.append([model_name,\"Train\",\"Accuracy\",round(score_train,4)])\n",
        "metrics_compare.append([model_name,\"Test\",\"Accuracy\",round(score_test,4)])\n",
        "metrics_compare.append([model_name,\"Train\",\"F1\",round(train_f1,4)])\n",
        "metrics_compare.append([model_name,\"Test\",\"F1\",round(test_f1,4)])"
      ],
      "metadata": {
        "id": "9ik33MpDPoax"
      },
      "execution_count": null,
      "outputs": []
    },
    {
      "cell_type": "code",
      "source": [
        "# Feature importance\n",
        "featimp_score = best_estimator.feature_importances_\n",
        "col_names = X_train.columns\n",
        "df_featimp = pd.DataFrame(featimp_score,index=col_names[:len(featimp_score)],columns=[\"importance\"])\n",
        "df_featimp = df_featimp.sort_values(by=\"importance\")\n",
        "df_featimp_10 = df_featimp.tail(10)\n",
        "\n",
        "print(\"Feature importance\")\n",
        "print(df_featimp_10)\n",
        "df_featimp_10.to_excel(\"xgbClf_Feature_importance.xlsx\")\n",
        "\n",
        "fig, ax = plt.subplots(1, 1, figsize=(6, 4))\n",
        "ax.barh(range(len(df_featimp_10)), df_featimp_10['importance'], tick_label=df_featimp_10.index)\n",
        "ax.set_xlabel('Feature Importance Percentage')\n",
        "ax.set_ylabel('Feature')\n",
        "ax.set_title('Feature Importance')\n",
        "fig.tight_layout()\n",
        "fig.savefig(\"xgbClf_Feature_importance.pdf\")\n",
        "plt.show();\n"
      ],
      "metadata": {
        "id": "yH-rJRCd9ggO"
      },
      "execution_count": null,
      "outputs": []
    },
    {
      "cell_type": "markdown",
      "source": [
        "# **Neural Networks**\n",
        "\n",
        "In the following steps we will train a neural network for the same problematic as before."
      ],
      "metadata": {
        "id": "2BXpsPXMwFMs"
      }
    },
    {
      "cell_type": "markdown",
      "source": [
        "# **Import libraries**"
      ],
      "metadata": {
        "id": "pdtnOCZx7TwL"
      }
    },
    {
      "cell_type": "code",
      "source": [
        "#for modelling NN\n",
        "from tensorflow.keras.layers import Input, Dense\n",
        "from tensorflow.keras.models import Model\n",
        "\n",
        "#for dynamically changes during the training\n",
        "from tensorflow.keras.callbacks import EarlyStopping, ReduceLROnPlateau\n",
        "\n",
        "#for optimization with GridSearchCV\n",
        "from scikeras.wrappers import KerasClassifier\n",
        "from scikeras.wrappers import KerasRegressor\n",
        "\n",
        "#for optimizer definitions with individual learning-rates( NN regression could have often problems with exploding-gradients )\n",
        "from tensorflow import keras"
      ],
      "metadata": {
        "id": "jz-6CDocMnnV"
      },
      "execution_count": null,
      "outputs": []
    },
    {
      "cell_type": "markdown",
      "source": [
        "# **Preprocessing**"
      ],
      "metadata": {
        "id": "iyiyu7ss7ZP-"
      }
    },
    {
      "cell_type": "code",
      "source": [
        "# length of Input- and Output-Layer\n",
        "input_len = len(X_train.columns)\n",
        "output_len =  len(y_train_clf.unique())\n",
        "print('Number of features:' , input_len)\n",
        "print('Number of classes:', output_len)"
      ],
      "metadata": {
        "colab": {
          "base_uri": "https://localhost:8080/"
        },
        "id": "Afm2lb8kwKdv",
        "outputId": "abccb536-03c5-476a-e0a9-0d2997908e7a"
      },
      "execution_count": null,
      "outputs": [
        {
          "output_type": "stream",
          "name": "stdout",
          "text": [
            "Number of features: 75\n",
            "Number of classes: 7\n"
          ]
        }
      ]
    },
    {
      "cell_type": "code",
      "source": [
        "# definition of the Layers for Neural-Network of classification and regression\n",
        "# the difference is in the Output-Layer\n",
        "inputs = Input(shape = (input_len,), name = \"Input\")\n",
        "\n",
        "dense1 = Dense(units = 166, activation = 'tanh', name = 'Dense_1')\n",
        "\n",
        "dense2 = Dense(units = 332, activation = 'tanh', name = 'Dense_2')\n",
        "\n",
        "dense3 = Dense(units = 166, activation = 'tanh', name = 'Dense_3')\n",
        "\n",
        "dense4 = Dense(units = 166, activation = 'tanh', name = 'Dense_4')\n",
        "\n",
        "dense5_clf = Dense(units = output_len, activation = 'softmax', name = 'Dense_5_clf')\n",
        "\n",
        "dense5_reg = Dense(units = 1, activation = 'linear', name = 'Dense_5_reg')\n"
      ],
      "metadata": {
        "id": "_rHU3JiIwMbB"
      },
      "execution_count": null,
      "outputs": []
    },
    {
      "cell_type": "code",
      "source": [
        "# definition of the call-back function\n",
        "early_stopping = EarlyStopping(monitor = 'val_loss',\n",
        "                               patience = 5,\n",
        "                               min_delta = 0.01,\n",
        "                               mode = 'min',\n",
        "                               verbose = 1\n",
        "                              )\n",
        "\n",
        "reduce_learning_rate = ReduceLROnPlateau(monitor = 'val_loss',\n",
        "                                         factor = 0.1,\n",
        "                                         patience = 3,\n",
        "                                         min_delta = 0.01,\n",
        "                                         cooldown = 4,\n",
        "                                         verbose = 1\n",
        "                                        )"
      ],
      "metadata": {
        "id": "Q2jInDeRGuYU"
      },
      "execution_count": null,
      "outputs": []
    },
    {
      "cell_type": "markdown",
      "source": [
        "# **Regression**"
      ],
      "metadata": {
        "id": "gSCTE-E69_sH"
      }
    },
    {
      "cell_type": "code",
      "source": [
        "# Regression\n",
        "\n",
        "x = dense1(inputs)\n",
        "\n",
        "x = dense2(x)\n",
        "\n",
        "x = dense3(x)\n",
        "\n",
        "x = dense4(x)\n",
        "\n",
        "outputs = dense5_reg(x)"
      ],
      "metadata": {
        "id": "nPalzDNvwZj_"
      },
      "execution_count": null,
      "outputs": []
    },
    {
      "cell_type": "code",
      "source": [
        "model_reg = Model(inputs = inputs, outputs = outputs)\n",
        "\n",
        "model_reg.compile(loss = 'mse',\n",
        "                  optimizer = 'adam',\n",
        "                  metrics = ['mean_absolute_error'])\n",
        "\n",
        "model_reg.summary()"
      ],
      "metadata": {
        "colab": {
          "base_uri": "https://localhost:8080/"
        },
        "id": "4_Vg8d4swaBt",
        "outputId": "a5943263-c818-41a0-9919-33ad41877b18"
      },
      "execution_count": null,
      "outputs": [
        {
          "output_type": "stream",
          "name": "stdout",
          "text": [
            "Model: \"model_1\"\n",
            "_________________________________________________________________\n",
            " Layer (type)                Output Shape              Param #   \n",
            "=================================================================\n",
            " Input (InputLayer)          [(None, 75)]              0         \n",
            "                                                                 \n",
            " Dense_1 (Dense)             (None, 166)               12616     \n",
            "                                                                 \n",
            " Dense_2 (Dense)             (None, 332)               55444     \n",
            "                                                                 \n",
            " Dense_3 (Dense)             (None, 166)               55278     \n",
            "                                                                 \n",
            " Dense_4 (Dense)             (None, 166)               27722     \n",
            "                                                                 \n",
            " Dense_5_reg (Dense)         (None, 1)                 167       \n",
            "                                                                 \n",
            "=================================================================\n",
            "Total params: 151227 (590.73 KB)\n",
            "Trainable params: 151227 (590.73 KB)\n",
            "Non-trainable params: 0 (0.00 Byte)\n",
            "_________________________________________________________________\n"
          ]
        }
      ]
    },
    {
      "cell_type": "code",
      "source": [
        "model_history_reg = model_reg.fit(X_train,\n",
        "                              y_train_reg,\n",
        "                              epochs=15,\n",
        "                              batch_size=512,\n",
        "                              validation_data=(X_valid,y_valid_reg),\n",
        "                              callbacks = [reduce_learning_rate, early_stopping])"
      ],
      "metadata": {
        "id": "MTXIcV80wb3s",
        "colab": {
          "base_uri": "https://localhost:8080/"
        },
        "outputId": "2c5832cd-e32e-42f7-8b26-00f557df580b"
      },
      "execution_count": null,
      "outputs": [
        {
          "output_type": "stream",
          "name": "stdout",
          "text": [
            "Epoch 1/15\n",
            "4917/4917 [==============================] - 83s 17ms/step - loss: 1534.8153 - mean_absolute_error: 19.6259 - val_loss: 55.6643 - val_mean_absolute_error: 1.4411 - lr: 0.0010\n",
            "Epoch 2/15\n",
            "4917/4917 [==============================] - 81s 16ms/step - loss: 17.0120 - mean_absolute_error: 0.9989 - val_loss: 4.1187 - val_mean_absolute_error: 0.7745 - lr: 0.0010\n",
            "Epoch 3/15\n",
            "4917/4917 [==============================] - 84s 17ms/step - loss: 1.7586 - mean_absolute_error: 0.7290 - val_loss: 0.9940 - val_mean_absolute_error: 0.6397 - lr: 0.0010\n",
            "Epoch 4/15\n",
            "4917/4917 [==============================] - 79s 16ms/step - loss: 1.0168 - mean_absolute_error: 0.6815 - val_loss: 2.5816 - val_mean_absolute_error: 1.1486 - lr: 0.0010\n",
            "Epoch 5/15\n",
            "4917/4917 [==============================] - 84s 17ms/step - loss: 0.9162 - mean_absolute_error: 0.6567 - val_loss: 0.8110 - val_mean_absolute_error: 0.5802 - lr: 0.0010\n",
            "Epoch 6/15\n",
            "4917/4917 [==============================] - 78s 16ms/step - loss: 0.8533 - mean_absolute_error: 0.6329 - val_loss: 0.7879 - val_mean_absolute_error: 0.5941 - lr: 0.0010\n",
            "Epoch 7/15\n",
            "4917/4917 [==============================] - 77s 16ms/step - loss: 0.8050 - mean_absolute_error: 0.6128 - val_loss: 0.9870 - val_mean_absolute_error: 0.6242 - lr: 0.0010\n",
            "Epoch 8/15\n",
            "4917/4917 [==============================] - 82s 17ms/step - loss: 0.7669 - mean_absolute_error: 0.6015 - val_loss: 0.8780 - val_mean_absolute_error: 0.6407 - lr: 0.0010\n",
            "Epoch 9/15\n",
            "4917/4917 [==============================] - ETA: 0s - loss: 0.7205 - mean_absolute_error: 0.5868\n",
            "Epoch 9: ReduceLROnPlateau reducing learning rate to 0.00010000000474974513.\n",
            "4917/4917 [==============================] - 79s 16ms/step - loss: 0.7205 - mean_absolute_error: 0.5868 - val_loss: 0.8488 - val_mean_absolute_error: 0.6429 - lr: 0.0010\n",
            "Epoch 10/15\n",
            "4917/4917 [==============================] - 77s 16ms/step - loss: 0.5238 - mean_absolute_error: 0.4981 - val_loss: 0.5491 - val_mean_absolute_error: 0.4977 - lr: 1.0000e-04\n",
            "Epoch 11/15\n",
            "4917/4917 [==============================] - 81s 16ms/step - loss: 0.5159 - mean_absolute_error: 0.4956 - val_loss: 0.5456 - val_mean_absolute_error: 0.4987 - lr: 1.0000e-04\n",
            "Epoch 12/15\n",
            "4917/4917 [==============================] - 77s 16ms/step - loss: 0.5096 - mean_absolute_error: 0.4935 - val_loss: 0.5365 - val_mean_absolute_error: 0.4943 - lr: 1.0000e-04\n",
            "Epoch 13/15\n",
            "4917/4917 [==============================] - 79s 16ms/step - loss: 0.5041 - mean_absolute_error: 0.4918 - val_loss: 0.5269 - val_mean_absolute_error: 0.4911 - lr: 1.0000e-04\n",
            "Epoch 14/15\n",
            "4917/4917 [==============================] - 83s 17ms/step - loss: 0.4990 - mean_absolute_error: 0.4902 - val_loss: 0.5190 - val_mean_absolute_error: 0.4905 - lr: 1.0000e-04\n",
            "Epoch 15/15\n",
            "4917/4917 [==============================] - 79s 16ms/step - loss: 0.4944 - mean_absolute_error: 0.4888 - val_loss: 0.5153 - val_mean_absolute_error: 0.4928 - lr: 1.0000e-04\n"
          ]
        }
      ]
    },
    {
      "cell_type": "code",
      "source": [
        "train_loss = model_history_reg.history[\"loss\"]\n",
        "val_loss = model_history_reg.history[\"val_loss\"]\n",
        "train_acc = model_history_reg.history[\"mean_absolute_error\"]\n",
        "val_acc = model_history_reg.history[\"val_mean_absolute_error\"]\n",
        "\n",
        "# Plot 1: Loss per epoch\n",
        "plt.figure(figsize=(10, 8))\n",
        "plt.plot(train_loss)\n",
        "plt.plot(val_loss)\n",
        "plt.title('Model loss per epoch (MSE)')\n",
        "plt.ylabel('Loss')\n",
        "plt.xlabel('Epoch')\n",
        "plt.legend(['Train', 'Validation'], loc='upper right')\n",
        "plt.savefig(\"NN_Regression_loss_plot.pdf\")\n",
        "plt.show()\n",
        "\n",
        "# Plot 2: Accuracy per epoch\n",
        "plt.figure(figsize=(10, 8))\n",
        "plt.plot(train_acc)\n",
        "plt.plot(val_acc)\n",
        "plt.title('Model accuracy per epoch (MAE)')\n",
        "plt.ylabel('MAE')\n",
        "plt.xlabel('Epoch')\n",
        "plt.legend(['Train', 'Validation'], loc='upper right')\n",
        "plt.savefig(\"NN_Regression_accuracy_plot.pdf\")\n",
        "plt.show()"
      ],
      "metadata": {
        "id": "bIPIKN96gA1u",
        "colab": {
          "base_uri": "https://localhost:8080/",
          "height": 1000
        },
        "outputId": "d51fc2b9-2afc-45c9-d501-12fb0d90c081"
      },
      "execution_count": null,
      "outputs": [
        {
          "output_type": "display_data",
          "data": {
            "text/plain": [
              "<Figure size 1000x800 with 1 Axes>"
            ],
            "image/png": "[encoded data removed]"
          },
          "metadata": {}
        },
        {
          "output_type": "display_data",
          "data": {
            "text/plain": [
              "<Figure size 1000x800 with 1 Axes>"
            ],
            "image/png": "[encoded data removed]"
          },
          "metadata": {}
        }
      ]
    },
    {
      "cell_type": "code",
      "source": [
        "# Predictions\n",
        "y_train_reg_pred = model_reg.predict(X_train)\n",
        "y_test_reg_pred = model_reg.predict(X_test)\n",
        "\n",
        "# Compute R2\n",
        "score_train=r2_score(y_train_reg,y_train_reg_pred)\n",
        "score_test=r2_score(y_test_reg,y_test_reg_pred)\n",
        "\n",
        "# Compute RMSE\n",
        "train_rmse = np.sqrt(mean_squared_error(y_train_reg,y_train_reg_pred))\n",
        "test_rmse = np.sqrt(mean_squared_error(y_test_reg,y_test_reg_pred))"
      ],
      "metadata": {
        "id": "dsA7cGpmVd18"
      },
      "execution_count": null,
      "outputs": []
    },
    {
      "cell_type": "code",
      "source": [
        "# Adding scores\n",
        "model_name= \"NN Regression\"\n",
        "\n",
        "metrics_compare.append([model_name,\"Train\",\"R^2\",round(score_train,4)])\n",
        "metrics_compare.append([model_name,\"Test\",\"R^2\",round(score_test,4)])\n",
        "metrics_compare.append([model_name,\"Train\",\"RMSE\",round(train_rmse,4)])\n",
        "metrics_compare.append([model_name,\"Test\",\"RMSE\",round(test_rmse,4)])"
      ],
      "metadata": {
        "id": "QEXGtHDoUvsK"
      },
      "execution_count": null,
      "outputs": []
    },
    {
      "cell_type": "markdown",
      "source": [
        "# **Classification**"
      ],
      "metadata": {
        "id": "OK6M9R8I98vC"
      }
    },
    {
      "cell_type": "code",
      "source": [
        "# Classification\n",
        "\n",
        "x = dense1(inputs)\n",
        "\n",
        "x = dense2(x)\n",
        "\n",
        "x = dense3(x)\n",
        "\n",
        "x = dense4(x)\n",
        "\n",
        "outputs = dense5_clf(x)"
      ],
      "metadata": {
        "id": "aqn_DOkjwMi1"
      },
      "execution_count": null,
      "outputs": []
    },
    {
      "cell_type": "code",
      "source": [
        "model_clf = Model(inputs = inputs, outputs = outputs)\n",
        "\n",
        "model_clf.compile(loss = 'sparse_categorical_crossentropy',\n",
        "                  optimizer = 'adam',\n",
        "                  metrics = ['accuracy'])\n",
        "\n",
        "model_clf.summary()"
      ],
      "metadata": {
        "id": "lyPLsBPlwMpF",
        "colab": {
          "base_uri": "https://localhost:8080/"
        },
        "outputId": "dd8d4527-4c77-465b-9ce5-e2c0b5f77d07"
      },
      "execution_count": null,
      "outputs": [
        {
          "output_type": "stream",
          "name": "stdout",
          "text": [
            "Model: \"model_2\"\n",
            "_________________________________________________________________\n",
            " Layer (type)                Output Shape              Param #   \n",
            "=================================================================\n",
            " Input (InputLayer)          [(None, 75)]              0         \n",
            "                                                                 \n",
            " Dense_1 (Dense)             (None, 166)               12616     \n",
            "                                                                 \n",
            " Dense_2 (Dense)             (None, 332)               55444     \n",
            "                                                                 \n",
            " Dense_3 (Dense)             (None, 166)               55278     \n",
            "                                                                 \n",
            " Dense_4 (Dense)             (None, 166)               27722     \n",
            "                                                                 \n",
            " Dense_5_clf (Dense)         (None, 7)                 1169      \n",
            "                                                                 \n",
            "=================================================================\n",
            "Total params: 152229 (594.64 KB)\n",
            "Trainable params: 152229 (594.64 KB)\n",
            "Non-trainable params: 0 (0.00 Byte)\n",
            "_________________________________________________________________\n"
          ]
        }
      ]
    },
    {
      "cell_type": "code",
      "source": [
        "model_history_clf = model_clf.fit(X_train,\n",
        "                              y_train_clf,\n",
        "                              epochs=15,\n",
        "                              batch_size=512,\n",
        "                              validation_data=(X_valid,y_valid_clf),\n",
        "                              callbacks = [reduce_learning_rate, early_stopping])\n"
      ],
      "metadata": {
        "id": "YDA_m9UwwSq1",
        "colab": {
          "base_uri": "https://localhost:8080/"
        },
        "outputId": "98f98ec1-cf5e-433e-d755-98ff20a97c76"
      },
      "execution_count": null,
      "outputs": [
        {
          "output_type": "stream",
          "name": "stdout",
          "text": [
            "Epoch 1/15\n",
            "4917/4917 [==============================] - 84s 17ms/step - loss: 0.0714 - accuracy: 0.9727 - val_loss: 0.0490 - val_accuracy: 0.9783 - lr: 0.0010\n",
            "Epoch 2/15\n",
            "4917/4917 [==============================] - 83s 17ms/step - loss: 0.0476 - accuracy: 0.9791 - val_loss: 0.0450 - val_accuracy: 0.9801 - lr: 0.0010\n",
            "Epoch 3/15\n",
            "4917/4917 [==============================] - 85s 17ms/step - loss: 0.0455 - accuracy: 0.9799 - val_loss: 0.0452 - val_accuracy: 0.9803 - lr: 0.0010\n",
            "Epoch 4/15\n",
            "4916/4917 [============================>.] - ETA: 0s - loss: 0.0442 - accuracy: 0.9807\n",
            "Epoch 4: ReduceLROnPlateau reducing learning rate to 0.00010000000474974513.\n",
            "4917/4917 [==============================] - 83s 17ms/step - loss: 0.0442 - accuracy: 0.9807 - val_loss: 0.0444 - val_accuracy: 0.9808 - lr: 0.0010\n",
            "Epoch 5/15\n",
            "4917/4917 [==============================] - 80s 16ms/step - loss: 0.0377 - accuracy: 0.9831 - val_loss: 0.0374 - val_accuracy: 0.9832 - lr: 1.0000e-04\n",
            "Epoch 6/15\n",
            "4917/4917 [==============================] - 80s 16ms/step - loss: 0.0369 - accuracy: 0.9832 - val_loss: 0.0370 - val_accuracy: 0.9832 - lr: 1.0000e-04\n",
            "Epoch 7/15\n",
            "4917/4917 [==============================] - 83s 17ms/step - loss: 0.0365 - accuracy: 0.9834 - val_loss: 0.0371 - val_accuracy: 0.9834 - lr: 1.0000e-04\n",
            "Epoch 8/15\n",
            "4917/4917 [==============================] - 82s 17ms/step - loss: 0.0362 - accuracy: 0.9835 - val_loss: 0.0363 - val_accuracy: 0.9834 - lr: 1.0000e-04\n",
            "Epoch 9/15\n",
            "4917/4917 [==============================] - 79s 16ms/step - loss: 0.0359 - accuracy: 0.9835 - val_loss: 0.0362 - val_accuracy: 0.9835 - lr: 1.0000e-04\n",
            "Epoch 10/15\n",
            "4916/4917 [============================>.] - ETA: 0s - loss: 0.0357 - accuracy: 0.9836\n",
            "Epoch 10: ReduceLROnPlateau reducing learning rate to 1.0000000474974514e-05.\n",
            "4917/4917 [==============================] - 80s 16ms/step - loss: 0.0357 - accuracy: 0.9836 - val_loss: 0.0362 - val_accuracy: 0.9837 - lr: 1.0000e-04\n",
            "Epoch 10: early stopping\n"
          ]
        }
      ]
    },
    {
      "cell_type": "code",
      "source": [
        "train_loss = model_history_clf.history[\"loss\"]\n",
        "val_loss = model_history_clf.history[\"val_loss\"]\n",
        "train_acc = model_history_clf.history[\"accuracy\"]\n",
        "val_acc = model_history_clf.history[\"val_accuracy\"]\n",
        "\n",
        "# Plot 1: Loss per epoch\n",
        "plt.figure(figsize=(10, 8))\n",
        "plt.plot(train_loss, label='Train Loss')\n",
        "plt.plot(val_loss, label='Validation Loss')\n",
        "plt.title('Model Loss per Epoch')\n",
        "plt.ylabel('Loss')\n",
        "plt.xlabel('Epoch')\n",
        "plt.legend(loc='upper right')\n",
        "plt.tight_layout()\n",
        "plt.savefig(\"NN_Classification_loss_plot.pdf\")\n",
        "plt.show()\n",
        "\n",
        "# Plot 2: Accuracy per epoch\n",
        "plt.figure(figsize=(10, 8))\n",
        "plt.plot(train_acc, label='Train Accuracy')\n",
        "plt.plot(val_acc, label='Validation Accuracy')\n",
        "plt.title('Model Accuracy per Epoch')\n",
        "plt.ylabel('Accuracy')\n",
        "plt.xlabel('Epoch')\n",
        "plt.legend(loc='lower right')\n",
        "plt.tight_layout()\n",
        "plt.savefig(\"NN_Classification_accuracy_plot.pdf\")\n",
        "plt.show()\n"
      ],
      "metadata": {
        "colab": {
          "base_uri": "https://localhost:8080/",
          "height": 1000
        },
        "id": "YGrPO_xWT8CP",
        "outputId": "b6af167c-647a-4727-ffd4-7db0aef447a6"
      },
      "execution_count": null,
      "outputs": [
        {
          "output_type": "display_data",
          "data": {
            "text/plain": [
              "<Figure size 1000x800 with 1 Axes>"
            ],
            "image/png": "[encoded data removed]"
          },
          "metadata": {}
        },
        {
          "output_type": "display_data",
          "data": {
            "text/plain": [
              "<Figure size 1000x800 with 1 Axes>"
            ],
            "image/png": "[encoded data removed]"
          },
          "metadata": {}
        }
      ]
    },
    {
      "cell_type": "code",
      "source": [
        "# Prediction (training set)\n",
        "y_train_clf_pred = model_clf.predict(X_train);\n",
        "y_train_clf_pred_class = np.argmax(y_train_clf_pred, axis=1)\n",
        "\n",
        "print(\"NN Classification report (Training):\")\n",
        "print(classification_report(y_train_clf, y_train_clf_pred_class))"
      ],
      "metadata": {
        "id": "NYbUnRRIMLRn"
      },
      "execution_count": null,
      "outputs": []
    },
    {
      "cell_type": "code",
      "source": [
        "# Prediction (test set)\n",
        "y_test_clf_pred = model_clf.predict(X_test);\n",
        "y_test_clf_pred_class = np.argmax(y_test_clf_pred, axis=1)\n",
        "\n",
        "print(\"NN Classification report (Test):\")\n",
        "print(classification_report(y_test_clf, y_test_clf_pred_class))\n",
        "print(confusion_matrix(y_test_clf, y_test_clf_pred_class))"
      ],
      "metadata": {
        "id": "_2id1Ae6wSts"
      },
      "execution_count": null,
      "outputs": []
    },
    {
      "cell_type": "code",
      "source": [
        "# Compute accuracy\n",
        "score_train = accuracy_score(y_train_clf, y_train_clf_pred_class)\n",
        "score_test = accuracy_score(y_test_clf, y_test_clf_pred_class)\n",
        "\n",
        "# Compute f1\n",
        "train_f1=f1_score(y_train_clf,y_train_clf_pred_class,average=\"weighted\")\n",
        "test_f1=f1_score(y_test_clf,y_test_clf_pred_class,average=\"weighted\")"
      ],
      "metadata": {
        "id": "dUs1gQZ-WGHP"
      },
      "execution_count": null,
      "outputs": []
    },
    {
      "cell_type": "code",
      "source": [
        "# Adding scores\n",
        "model_name= \"NN Classification\"\n",
        "\n",
        "metrics_compare.append([model_name,\"Train\",\"Accuracy\",round(score_train,4)])\n",
        "metrics_compare.append([model_name,\"Test\",\"Accuracy\",round(score_test,4)])\n",
        "metrics_compare.append([model_name,\"Train\",\"F1\",round(train_f1,4)])\n",
        "metrics_compare.append([model_name,\"Test\",\"F1\",round(test_f1,4)])"
      ],
      "metadata": {
        "id": "pEmNzFuYV0Df"
      },
      "execution_count": null,
      "outputs": []
    },
    {
      "cell_type": "markdown",
      "source": [
        "# **Optimization**"
      ],
      "metadata": {
        "id": "zU_xElRSaBeW"
      }
    },
    {
      "cell_type": "markdown",
      "source": [
        "# **NN Classification Optimization**"
      ],
      "metadata": {
        "id": "0oPbOeUmzaIp"
      }
    },
    {
      "cell_type": "code",
      "source": [
        "# create_model for classification\n",
        "def create_model(hpoptimizer,hplr): #poptimizer):\n",
        "\n",
        "    x=dense1(inputs)\n",
        "    #x=dropout(x)\n",
        "    x=dense2(x)\n",
        "    #x=dropout(x)\n",
        "    x=dense3(x)\n",
        "    #x=dropout(x)\n",
        "    x=dense4(x)\n",
        "    outputs=dense5_clf(x)\n",
        "\n",
        "    if hpoptimizer=='SGD':\n",
        "        opt=keras.optimizers.SGD(learning_rate=hplr)\n",
        "    elif hpoptimizer=='RMSprop':\n",
        "        opt=keras.optimizers.RMSprop(learning_rate=hplr)\n",
        "    elif hpoptimizer=='Adagrad':\n",
        "        opt=keras.optimizers.Adagrad(learning_rate=hplr)\n",
        "    elif hpoptimizer=='Adadelta':\n",
        "        opt=keras.optimizers.Adadelta(learning_rate=hplr)\n",
        "    elif hpoptimizer=='Adam':\n",
        "        opt=keras.optimizers.Adam(learning_rate=hplr)\n",
        "    elif hpoptimizer=='Adamax':\n",
        "        opt=keras.optimizers.Adamax(learning_rate=hplr)\n",
        "    elif hpoptimizer=='Nadam':\n",
        "        opt=keras.optimizers.Nadam(learning_rate=hplr)\n",
        "\n",
        "\n",
        "    model=Model(inputs= inputs, outputs = outputs)\n",
        "    model.compile(loss = 'sparse_categorical_crossentropy', optimizer = opt, metrics = ['accuracy'])\n",
        "    return model\n",
        "\n",
        "model_keras_clf = KerasClassifier(model=create_model,\n",
        "                                  epochs=15,\n",
        "                                  batch_size=8192,\n",
        "                                  callbacks = [reduce_learning_rate, early_stopping]) #, verbose=0)"
      ],
      "metadata": {
        "id": "TSfRvCjLyXht"
      },
      "execution_count": null,
      "outputs": []
    },
    {
      "cell_type": "code",
      "source": [
        "# define of hyperparameters\n",
        "optimizers = ['SGD', 'RMSprop', 'Adagrad', 'Adadelta', 'Adam', 'Adamax', 'Nadam']\n",
        "batchsizes = [512,256,128]\n",
        "lrs = [0.01,0.001,0.0001]\n",
        "parameters = dict(batch_size=batchsizes,model__hpoptimizer=optimizers,model__hplr=lrs)"
      ],
      "metadata": {
        "id": "VxzfxX2KyXtv"
      },
      "execution_count": null,
      "outputs": []
    },
    {
      "cell_type": "code",
      "source": [
        "# define the GridSearchCV\n",
        "grid_clf = GridSearchCV(estimator=model_keras_clf, param_grid=parameters,cv=3,verbose=10) #, n_jobs=-1, cv=2)"
      ],
      "metadata": {
        "id": "sSgiOsw4yX6F"
      },
      "execution_count": null,
      "outputs": []
    },
    {
      "cell_type": "code",
      "source": [
        "# train the GridSearchCV\n",
        "grid_result = grid_clf.fit(X_train,\n",
        "                           y_train_clf,\n",
        "                           validation_data=(X_valid,y_valid_clf))"
      ],
      "metadata": {
        "id": "6zFZTIE5yYGR"
      },
      "execution_count": null,
      "outputs": []
    },
    {
      "cell_type": "code",
      "source": [
        "train_loss = grid_clf.best_estimator_.history_[\"loss\"]\n",
        "val_loss = grid_clf.best_estimator_.history_[\"val_loss\"]\n",
        "train_acc = grid_clf.best_estimator_.history_[\"accuracy\"]\n",
        "val_acc = grid_clf.best_estimator_.history_[\"val_accuracy\"]\n",
        "\n",
        "# Plot 1: Loss per epoch\n",
        "plt.figure(figsize=(10, 8))\n",
        "plt.plot(train_loss, label='Train Loss')\n",
        "plt.plot(val_loss, label='Validation Loss')\n",
        "plt.title('Model Loss per Epoch')\n",
        "plt.ylabel('Loss')\n",
        "plt.xlabel('Epoch')\n",
        "plt.legend(loc='upper right')\n",
        "plt.tight_layout()\n",
        "plt.savefig(\"NN_Classification_best_gridcv_loss_plot.pdf\")\n",
        "plt.show()\n",
        "\n",
        "# Plot 2: Accuracy per epoch\n",
        "plt.figure(figsize=(10, 8))\n",
        "plt.plot(train_acc, label='Train Accuracy')\n",
        "plt.plot(val_acc, label='Validation Accuracy')\n",
        "plt.title('Model Accuracy per Epoch')\n",
        "plt.ylabel('Accuracy')\n",
        "plt.xlabel('Epoch')\n",
        "plt.legend(loc='lower right')\n",
        "plt.tight_layout()\n",
        "plt.savefig(\"NN_Classification_best_gridcv_accuracy_plot.pdf\")\n",
        "plt.show()"
      ],
      "metadata": {
        "id": "Xqa2hPbwyYR7"
      },
      "execution_count": null,
      "outputs": []
    },
    {
      "cell_type": "code",
      "source": [
        "# Prediction (training set)\n",
        "y_train_clf_pred = grid_result.predict(X_train);\n",
        "\n",
        "print(\"NN Classification report (Training):\")\n",
        "print(classification_report(y_train_clf, y_train_clf_pred))"
      ],
      "metadata": {
        "id": "XRXyLX6oyYdk"
      },
      "execution_count": null,
      "outputs": []
    },
    {
      "cell_type": "code",
      "source": [
        "# Prediction (test set)\n",
        "y_test_clf_pred = grid_result.predict(X_test);\n",
        "#y_test_clf_pred_class = np.argmax(y_test_clf_pred, axis=1)\n",
        "\n",
        "print(\"NN Classification report (Test):\")\n",
        "print(classification_report(y_test_clf, y_test_clf_pred))\n",
        "print(confusion_matrix(y_test_clf, y_test_clf_pred))"
      ],
      "metadata": {
        "id": "tXTMoU9zyYpd"
      },
      "execution_count": null,
      "outputs": []
    },
    {
      "cell_type": "code",
      "source": [
        "# Compute accuracy\n",
        "score_train = accuracy_score(y_train_clf, y_train_clf_pred)\n",
        "score_test = accuracy_score(y_test_clf, y_test_clf_pred)\n",
        "\n",
        "# Compute f1\n",
        "train_f1=f1_score(y_train_clf,y_train_clf_pred,average=\"weighted\")\n",
        "test_f1=f1_score(y_test_clf,y_test_clf_pred,average=\"weighted\")"
      ],
      "metadata": {
        "id": "zeYk8AQPyY3C"
      },
      "execution_count": null,
      "outputs": []
    },
    {
      "cell_type": "code",
      "source": [
        "# Adding scores\n",
        "best_param= grid_clf.best_params_\n",
        "model_name= 'NN Classification optimized(batchsize=%s, optimizer=%s)' % (best_param['batch_size'],best_param['optimizer'])\n",
        "\n",
        "metrics_compare.append([model_name,\"Train\",\"Accuracy\",round(score_train,4)])\n",
        "metrics_compare.append([model_name,\"Test\",\"Accuracy\",round(score_test,4)])\n",
        "metrics_compare.append([model_name,\"Train\",\"F1\",round(train_f1,4)])\n",
        "metrics_compare.append([model_name,\"Test\",\"F1\",round(test_f1,4)])"
      ],
      "metadata": {
        "id": "SVYSkHgLyZEo"
      },
      "execution_count": null,
      "outputs": []
    },
    {
      "cell_type": "markdown",
      "source": [
        "# **NN Regression Optimization**"
      ],
      "metadata": {
        "id": "fVW5vYMY0Wom"
      }
    },
    {
      "cell_type": "code",
      "source": [
        "# create_model for regression\n",
        "def create_model_reg(hpoptimizer,hplr):\n",
        "    x=dense1(inputs)\n",
        "    x=dense2(x)\n",
        "    x=dense3(x)\n",
        "    x=dense4(x)\n",
        "    outputs=dense5_reg(x)\n",
        "\n",
        "    if hpoptimizer=='SGD':\n",
        "        opt=keras.optimizers.SGD(learning_rate=hplr)\n",
        "    elif hpoptimizer=='RMSprop':\n",
        "        opt=keras.optimizers.RMSprop(learning_rate=hplr)\n",
        "    elif hpoptimizer=='Adagrad':\n",
        "        opt=keras.optimizers.Adagrad(learning_rate=hplr)\n",
        "    elif hpoptimizer=='Adadelta':\n",
        "        opt=keras.optimizers.Adadelta(learning_rate=hplr)\n",
        "    elif hpoptimizer=='Adam':\n",
        "        opt=keras.optimizers.Adam(learning_rate=hplr)\n",
        "    elif hpoptimizer=='Adamax':\n",
        "        opt=keras.optimizers.Adamax(learning_rate=hplr)\n",
        "    elif hpoptimizer=='Nadam':\n",
        "        opt=keras.optimizers.Nadam(learning_rate=hplr)\n",
        "\n",
        "\n",
        "    model=Model(inputs= inputs, outputs = outputs)\n",
        "    model.compile(loss = 'mse', optimizer = opt, metrics = ['mean_absolute_error'])\n",
        "    return model\n",
        "\n",
        "model_keras_reg = KerasRegressor(model=create_model_reg,\n",
        "                                  epochs=15,\n",
        "                                  batch_size=8192,\n",
        "                                  callbacks = [reduce_learning_rate, early_stopping]) #, verbose=0)"
      ],
      "metadata": {
        "id": "LO_SZtlB0fhB"
      },
      "execution_count": null,
      "outputs": []
    },
    {
      "cell_type": "code",
      "source": [
        "# define of hyperparameters\n",
        "optimizers = ['SGD', 'RMSprop', 'Adagrad', 'Adadelta', 'Adam', 'Adamax', 'Nadam']\n",
        "batchsizes = [512,256,128]\n",
        "# learning_rate 0.01 with SGD makes problems on the notebook and you have to reset it, so we leave it out\n",
        "lrs = [0.001,0.0001]\n",
        "parameters = dict(batch_size=batchsizes,model__hpoptimizer=optimizers,model__hplr=lrs)"
      ],
      "metadata": {
        "id": "VRvhy-Kn0mJQ"
      },
      "execution_count": null,
      "outputs": []
    },
    {
      "cell_type": "code",
      "source": [
        "# define the GridSearchCV\n",
        "grid_reg = GridSearchCV(estimator=model_keras_reg, param_grid=parameters,cv=3,verbose=10) #, n_jobs=-1)"
      ],
      "metadata": {
        "id": "JBStSy_10mZ0"
      },
      "execution_count": null,
      "outputs": []
    },
    {
      "cell_type": "code",
      "source": [
        "# train the GridSearchCV\n",
        "grid_result = grid_reg.fit(X_train,\n",
        "                           y_train_reg,\n",
        "                           validation_data=(X_valid,y_valid_reg))"
      ],
      "metadata": {
        "id": "b8RkeUQV0mnl"
      },
      "execution_count": null,
      "outputs": []
    },
    {
      "cell_type": "code",
      "source": [
        "train_loss = grid_reg.best_estimator_.history_[\"loss\"]\n",
        "val_loss = grid_reg.best_estimator_.history_[\"val_loss\"]\n",
        "train_acc = grid_reg.best_estimator_.history_[\"mean_absolute_error\"]\n",
        "val_acc = grid_reg.best_estimator_.history_[\"val_mean_absolute_error\"]\n",
        "\n",
        "# Plot 1: Loss per epoch\n",
        "plt.figure(figsize=(10, 8))\n",
        "plt.plot(train_loss)\n",
        "plt.plot(val_loss)\n",
        "plt.title('Model loss per epoch (MSE)')\n",
        "plt.ylabel('Loss')\n",
        "plt.xlabel('Epoch')\n",
        "plt.legend(['Train', 'Validation'], loc='upper right')\n",
        "plt.savefig(\"NN_Regression_best_grid_loss_plot.pdf\")\n",
        "plt.show()\n",
        "\n",
        "# Plot 2: Accuracy per epoch\n",
        "plt.figure(figsize=(10, 8))\n",
        "plt.plot(train_acc)\n",
        "plt.plot(val_acc)\n",
        "plt.title('Model accuracy per epoch (MAE)')\n",
        "plt.ylabel('MAE')\n",
        "plt.xlabel('Epoch')\n",
        "plt.legend(['Train', 'Validation'], loc='upper right')\n",
        "plt.savefig(\"NN_Regression_best_gridcv_accuracy_plot.pdf\")\n",
        "plt.show()"
      ],
      "metadata": {
        "id": "-nb3t_f20m0_"
      },
      "execution_count": null,
      "outputs": []
    },
    {
      "cell_type": "code",
      "source": [
        "# Predictions\n",
        "y_train_reg_pred = grid_result.predict(X_train)\n",
        "y_test_reg_pred = grid_result.predict(X_test)\n",
        "\n",
        "# Compute R2\n",
        "score_train=r2_score(y_train_reg,y_train_reg_pred)\n",
        "score_test=r2_score(y_test_reg,y_test_reg_pred)\n",
        "\n",
        "# Compute RMSE\n",
        "train_rmse = np.sqrt(mean_squared_error(y_train_reg,y_train_reg_pred))\n",
        "test_rmse = np.sqrt(mean_squared_error(y_test_reg,y_test_reg_pred))"
      ],
      "metadata": {
        "id": "IYgsFTpw0nCc"
      },
      "execution_count": null,
      "outputs": []
    },
    {
      "cell_type": "code",
      "source": [
        "# Adding scores\n",
        "best_param= grid_reg.best_params_\n",
        "model_name= model_name='NN Regression optimized(batchsize=%s, optimizer=%s)' % (best_param['batch_size'],best_param['optimizer'])\n",
        "\n",
        "metrics_compare.append([model_name,\"Train\",\"R^2\",round(score_train,4)])\n",
        "metrics_compare.append([model_name,\"Test\",\"R^2\",round(score_test,4)])\n",
        "metrics_compare.append([model_name,\"Train\",\"RMSE\",round(train_rmse,4)])\n",
        "metrics_compare.append([model_name,\"Test\",\"RMSE\",round(test_rmse,4)])"
      ],
      "metadata": {
        "id": "cILJml2V0nRQ"
      },
      "execution_count": null,
      "outputs": []
    },
    {
      "cell_type": "markdown",
      "source": [
        "# **Interpretation**"
      ],
      "metadata": {
        "id": "k0nt2F9tQz5m"
      }
    },
    {
      "cell_type": "code",
      "source": [
        "pip install lime"
      ],
      "metadata": {
        "id": "e7IvaVOwQyqs"
      },
      "execution_count": null,
      "outputs": []
    },
    {
      "cell_type": "code",
      "source": [
        "from lime.lime_tabular import LimeTabularExplainer\n",
        "\n",
        "# Initialize the explainer\n",
        "explainer = LimeTabularExplainer(X_test.values, mode='classification', feature_names=X_test.columns, verbose=True, discretize_continuous=True)\n",
        "\n",
        "# Define the function to explain\n",
        "def proba_func(X):\n",
        "  proba = xgbClf.predict_proba(X)\n",
        "  return proba\n",
        "\n",
        "# Choose an instance to explain\n",
        "instance_index = 3445\n",
        "instance = X_test.iloc[instance_index].values.reshape(1, -1)\n",
        "\n",
        "# Explain the instance\n",
        "explanation = explainer.explain_instance(instance[0], proba_func, num_features=10)\n",
        "\n",
        "# Show the explanation\n",
        "explanation.show_in_notebook();\n",
        "\n"
      ],
      "metadata": {
        "id": "XlSjKmPBQ3M1"
      },
      "execution_count": null,
      "outputs": []
    },
    {
      "cell_type": "code",
      "source": [
        "# local interpretation of neuronal network\n",
        "import shap\n",
        "\n",
        "# sample for regression model\n",
        "explainer = shap.KernelExplainer(model_reg, X_test[0:100])\n",
        "\n",
        "# explaination for the first 10 instances\n",
        "shap_values = explainer.shap_values(X_test[0:10])\n",
        "df_shap_values = pd.DataFrame(shap_values.reshape(10,78), columns=X_test.columns)\n",
        "\n",
        "# chose an instance (0..9)\n",
        "idx=0\n",
        "df_featimp = df_shap_values.sort_values(by=idx,axis=1,key=abs,ascending=True).transpose().rename({idx:'importance'},axis=1) #df_shap_values.sort_values(by=\"importance\")\n",
        "df_featimp_10 = df_featimp.tail(10)\n",
        "\n",
        "print(\"Feature importance (sample for class %d )\" % y_clf[idx:idx+1].max())\n",
        "print(df_featimp_10.iloc[:,idx:idx+1].sort_values(by='importance',key=abs,ascending=False))\n",
        "\n",
        "fig, ax = plt.subplots(1, 1, figsize=(10, 5))\n",
        "ax.barh(range(len(df_featimp_10)), df_featimp_10['importance'], tick_label=df_featimp_10.index)\n",
        "ax.set_xlabel('Feature Importance')\n",
        "ax.set_ylabel('Feature')\n",
        "ax.set_title(\"Feature importance (sample for class %d )\" % y_clf[idx:idx+1].max())\n",
        "fig.tight_layout()\n",
        "fig.savefig(\"xgbClf_Feature_importance.pdf\")\n",
        "plt.show();"
      ],
      "metadata": {
        "id": "zXzyJ2g2qNvb"
      },
      "execution_count": null,
      "outputs": []
    },
    {
      "cell_type": "code",
      "execution_count": null,
      "metadata": {
        "id": "AzD4OdGVnvTx"
      },
      "outputs": [],
      "source": [
        "#  for comparing results\n",
        "df_metrics_compare = pd.DataFrame(metrics_compare,columns=[\"Model\",\"Set\",\"metric\",\"score\"])\n",
        "\n",
        "print(\"Modeling: Finished\")\n",
        "print(\"Summery of the statistics:\")\n",
        "print(df_metrics_compare)\n",
        "\n",
        "df_metrics_compare.to_excel(\"metrics.xlsx\")\n"
      ]
    }
  ],
  "metadata": {
    "colab": {
      "provenance": []
    },
    "kernelspec": {
      "display_name": "Python 3 (ipykernel)",
      "language": "python",
      "name": "python3"
    },
    "language_info": {
      "codemirror_mode": {
        "name": "ipython",
        "version": 3
      },
      "file_extension": ".py",
      "mimetype": "text/x-python",
      "name": "python",
      "nbconvert_exporter": "python",
      "pygments_lexer": "ipython3",
      "version": "3.11.7"
    }
  },
  "nbformat": 4,
  "nbformat_minor": 0
}